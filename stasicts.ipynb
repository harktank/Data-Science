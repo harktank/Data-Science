{
  "nbformat": 4,
  "nbformat_minor": 0,
  "metadata": {
    "colab": {
      "provenance": []
    },
    "kernelspec": {
      "name": "python3",
      "display_name": "Python 3"
    },
    "language_info": {
      "name": "python"
    }
  },
  "cells": [
    {
      "cell_type": "code",
      "execution_count": null,
      "metadata": {
        "colab": {
          "base_uri": "https://localhost:8080/"
        },
        "id": "SPhDZc1Qid7D",
        "outputId": "eac0b9a9-68b9-4a52-ae5d-d00f76268c38"
      },
      "outputs": [
        {
          "output_type": "stream",
          "name": "stdout",
          "text": [
            "Data: [1, 1, 2, 3, 4, 4, 5, 5, 6, 7, 8, 27]\n",
            "Mean: 6.083333333333333\n",
            "Median: 4.5\n",
            "Mode: 1\n",
            "Standard Deviation: 6.651545350935793\n",
            "Variance: 44.243055555555564\n",
            "Percentile (70th percentile): 5.699999999999999\n",
            "Quartiles: (2.75, 4.5, 6.25)\n",
            "Interquartile Range (IQR): 3.5\n",
            "Lower Fence: -2.5\n",
            "Upper Fence: 11.5\n"
          ]
        }
      ],
      "source": [
        "import numpy as np\n",
        "import matplotlib.pyplot as plt\n",
        "\n",
        "# Data\n",
        "data = [1, 1, 2, 3, 4, 4, 5, 5, 6, 7, 8, 27]\n",
        "\n",
        "def mean(data):\n",
        "    return np.mean(data)\n",
        "\n",
        "def median(data):\n",
        "    return np.median(data)\n",
        "\n",
        "def mode(data):\n",
        "    return np.argmax(np.bincount(data))\n",
        "\n",
        "def standard_deviation(data):\n",
        "    return np.std(data)\n",
        "\n",
        "def variance(data):\n",
        "    return np.var(data)\n",
        "\n",
        "def percentile(data, p):\n",
        "    return np.percentile(data, p)\n",
        "\n",
        "def quartiles(data):\n",
        "    q1 = np.percentile(data, 25)\n",
        "    q2 = np.percentile(data, 50)\n",
        "    q3 = np.percentile(data, 75)\n",
        "    return q1, q2, q3\n",
        "\n",
        "def iqr(data):\n",
        "    q1, q2, q3 = quartiles(data)\n",
        "    return q3 - q1\n",
        "\n",
        "def lower_fence(data):\n",
        "    q1, _, q3 = quartiles(data)\n",
        "    return q1 - 1.5 * iqr(data)\n",
        "\n",
        "def upper_fence(data):\n",
        "    _, _, q3 = quartiles(data)\n",
        "    return q3 + 1.5 * iqr(data)\n",
        "\n",
        "print(\"Data:\", data)\n",
        "print(\"Mean:\", mean(data))\n",
        "print(\"Median:\", median(data))\n",
        "print(\"Mode:\", mode(data))\n",
        "print(\"Standard Deviation:\", standard_deviation(data))\n",
        "print(\"Variance:\", variance(data))\n",
        "print(\"Percentile (70th percentile):\", percentile(data, 70))\n",
        "print(\"Quartiles:\", quartiles(data))\n",
        "print(\"Interquartile Range (IQR):\", iqr(data))\n",
        "print(\"Lower Fence:\", lower_fence(data))\n",
        "print(\"Upper Fence:\", upper_fence(data))"
      ]
    },
    {
      "cell_type": "code",
      "source": [],
      "metadata": {
        "id": "5EKhRLwFiocj"
      },
      "execution_count": null,
      "outputs": []
    }
  ]
}